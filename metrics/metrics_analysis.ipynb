{
 "cells": [
  {
   "cell_type": "code",
   "execution_count": null,
   "metadata": {},
   "outputs": [],
   "source": [
    "import pandas as pd\n",
    "\n",
    "vit_ensemble = pd.read_csv(\"vit_ensemble_metrics.csv\")\n",
    "conv_ensemble = pd.read_csv(\"conv_ensemble_metrics.csv\")"
   ]
  },
  {
   "cell_type": "code",
   "execution_count": null,
   "metadata": {},
   "outputs": [],
   "source": [
    "vit_base_16 = pd.read_csv(\"vit_base_16_metrics.csv\")\n",
    "convnext = pd.read_csv(\"convnext_metrics.csv\")"
   ]
  },
  {
   "cell_type": "code",
   "execution_count": null,
   "metadata": {},
   "outputs": [],
   "source": [
    "vit_ensemble.sort_values(by=\"test/BalancedAccuracy\", ascending=False, inplace=True)\n",
    "vit_ensemble.describe()"
   ]
  },
  {
   "cell_type": "code",
   "execution_count": null,
   "metadata": {},
   "outputs": [],
   "source": [
    "conv_ensemble.sort_values(by=\"test/BalancedAccuracy\", ascending=False, inplace=True)\n",
    "conv_ensemble.describe()"
   ]
  },
  {
   "cell_type": "code",
   "execution_count": null,
   "metadata": {},
   "outputs": [],
   "source": [
    "vit_base_16.sort_values(by=\"test/BalancedAccuracy\", ascending=False, inplace=True)\n",
    "vit_base_16.describe()"
   ]
  },
  {
   "cell_type": "code",
   "execution_count": null,
   "metadata": {},
   "outputs": [],
   "source": [
    "convnext.sort_values(by=\"test/BalancedAccuracy\", ascending=False, inplace=True)\n",
    "convnext.describe()"
   ]
  },
  {
   "cell_type": "code",
   "execution_count": null,
   "metadata": {},
   "outputs": [],
   "source": [
    "import matplotlib.pyplot as plt\n",
    "import seaborn as sns"
   ]
  },
  {
   "cell_type": "code",
   "execution_count": null,
   "metadata": {},
   "outputs": [],
   "source": [
    "all_metrics = pd.concat([vit_ensemble, conv_ensemble, vit_base_16, convnext], axis=0)\n",
    "all_metrics[\"model\"] = (\n",
    "    [\"vit_ensemble\"] * vit_ensemble.shape[0]\n",
    "    + [\"conv_ensemble\"] * conv_ensemble.shape[0]\n",
    "    + [\"vit_base_16\"] * vit_base_16.shape[0]\n",
    "    + [\"convnext\"] * convnext.shape[0]\n",
    ")\n",
    "\n",
    "all_metrics\n",
    "plt.figure(figsize=(10, 6))\n",
    "sns.scatterplot(data=all_metrics, x=all_metrics.index, y=\"test/Accuracy\", hue=\"model\")\n",
    "\n",
    "plt.xlabel(\"Trial Number\")\n",
    "\n",
    "plt.ylabel(\"Accuracy\")\n",
    "plt.title(\"Accuracy of Models\")"
   ]
  },
  {
   "cell_type": "code",
   "execution_count": null,
   "metadata": {},
   "outputs": [],
   "source": [
    "plt.figure(figsize=(10, 6))\n",
    "sns.scatterplot(\n",
    "    data=all_metrics, x=all_metrics.index, y=\"test/BalancedAccuracy\", hue=\"model\"\n",
    ")\n",
    "\n",
    "plt.xlabel(\"Trial Number\")\n",
    "plt.ylabel(\"Balanced Accuracy\")\n",
    "plt.title(\"Balanced Accuracy of Models\")"
   ]
  },
  {
   "cell_type": "code",
   "execution_count": null,
   "metadata": {},
   "outputs": [],
   "source": [
    "import scipy.stats as stats\n",
    "# we use the qq plots to check if data is normally distributed\n",
    "plt.figure(figsize=(10, 6))\n",
    "stats.probplot(vit_ensemble[\"test/BalancedAccuracy\"], dist=\"norm\", plot=plt)\n",
    "plt.title(\"VIT Ensemble Balanced Accuracy QQ Plot\")\n",
    "\n",
    "plt.figure(figsize=(10, 6))\n",
    "stats.probplot(conv_ensemble[\"test/BalancedAccuracy\"], dist=\"norm\", plot=plt)\n",
    "plt.title(\"Conv Ensemble Balanced Accuracy QQ Plot\")\n",
    "\n",
    "plt.figure(figsize=(10, 6))\n",
    "stats.probplot(vit_base_16[\"test/BalancedAccuracy\"], dist=\"norm\", plot=plt)\n",
    "plt.title(\"VIT Base 16 Balanced Accuracy QQ Plot\")\n",
    "\n",
    "plt.figure(figsize=(10, 6))\n",
    "stats.probplot(convnext[\"test/BalancedAccuracy\"], dist=\"norm\", plot=plt)\n",
    "plt.title(\"ConvNext Balanced Accuracy QQ Plot\")\n"
   ]
  },
  {
   "cell_type": "code",
   "execution_count": null,
   "metadata": {},
   "outputs": [],
   "source": [
    "# check that the data is normally distributed\n",
    "# for that we use Shapiro-Wilk test for normality\n",
    "can_make_anova = True\n",
    "shapiro_stat, shapiro_p = stats.shapiro(vit_base_16[\"test/BalancedAccuracy\"])\n",
    "print(shapiro_stat, shapiro_p)\n",
    "if shapiro_p < 0.05:\n",
    "    print(\"The data vit base 16 is not normally distributed\")\n",
    "    can_make_anova = False\n",
    "else:\n",
    "    print(\"The data vit base 16 is normally distributed\")\n",
    "\n",
    "shapiro_stat, shapiro_p = stats.shapiro(convnext[\"test/BalancedAccuracy\"])\n",
    "print(shapiro_stat, shapiro_p)\n",
    "if shapiro_p < 0.05:\n",
    "    print(\"The data convnext is not normally distributed\")\n",
    "    can_make_anova = False\n",
    "else:\n",
    "    print(\"The data convnext is normally distributed\")\n",
    "\n",
    "shapiro_stat, shapiro_p = stats.shapiro(vit_ensemble[\"test/BalancedAccuracy\"])\n",
    "print(shapiro_stat, shapiro_p)\n",
    "if shapiro_p < 0.05:\n",
    "    print(\"The data vit ensemble is not normally distributed\")\n",
    "    can_make_anova = False\n",
    "else:\n",
    "    print(\"The data vit ensemble is normally distributed\")\n",
    "\n",
    "shapiro_stat, shapiro_p = stats.shapiro(conv_ensemble[\"test/BalancedAccuracy\"])\n",
    "print(shapiro_stat, shapiro_p)\n",
    "if shapiro_p < 0.05:\n",
    "    print(\"The data conv ensemble is not normally distributed\")\n",
    "    can_make_anova = False\n",
    "else:\n",
    "    print(\"The data conv ensemble is normally distributed\")\n"
   ]
  },
  {
   "cell_type": "code",
   "execution_count": null,
   "metadata": {},
   "outputs": [],
   "source": [
    "# Levene test is for equal variances\n",
    "levene_stat, levene_p = stats.levene(\n",
    "    vit_ensemble[\"test/BalancedAccuracy\"],\n",
    "    conv_ensemble[\"test/BalancedAccuracy\"],\n",
    "    vit_base_16[\"test/BalancedAccuracy\"],\n",
    "    convnext[\"test/BalancedAccuracy\"],\n",
    ")\n",
    "print(levene_stat, levene_p)\n",
    "if levene_p < 0.05:\n",
    "    print(\"The variances are not equal\")\n",
    "    can_make_anova = False\n",
    "else:\n",
    "    print(\"The variances are equal\")"
   ]
  },
  {
   "cell_type": "code",
   "execution_count": null,
   "metadata": {},
   "outputs": [],
   "source": [
    "# ANOVA test\n",
    "fvalue, pvalue = stats.f_oneway(\n",
    "    vit_ensemble[\"test/BalancedAccuracy\"],\n",
    "    conv_ensemble[\"test/BalancedAccuracy\"],\n",
    "    vit_base_16[\"test/BalancedAccuracy\"],\n",
    "    convnext[\"test/BalancedAccuracy\"],\n",
    ")\n",
    "\n",
    "print(fvalue, pvalue)\n",
    "if pvalue < 0.05:\n",
    "    print(\"Reject the null hypothesis, the means are not equal\")\n",
    "    print(\"There is a significant difference between the models in terms of balanced accuracy\")\n",
    "else:\n",
    "    print(\"Fail to reject the null hypothesis, the means are equal\")\n",
    "    print(\"There is no significant difference between the models in terms of balanced accuracy\")\n"
   ]
  },
  {
   "cell_type": "code",
   "execution_count": 15,
   "metadata": {},
   "outputs": [
    {
     "name": "stdout",
     "output_type": "stream",
     "text": [
      "      Multiple Comparison of Means - Tukey HSD, FWER=0.05       \n",
      "================================================================\n",
      "    group1       group2    meandiff p-adj  lower   upper  reject\n",
      "----------------------------------------------------------------\n",
      "conv_ensemble     convnext  -0.0679   0.0 -0.0705 -0.0652   True\n",
      "conv_ensemble  vit_base_16  -0.0415   0.0 -0.0442 -0.0388   True\n",
      "conv_ensemble vit_ensemble   0.0077   0.0  0.0051  0.0104   True\n",
      "     convnext  vit_base_16   0.0264   0.0  0.0237   0.029   True\n",
      "     convnext vit_ensemble   0.0756   0.0   0.073  0.0783   True\n",
      "  vit_base_16 vit_ensemble   0.0493   0.0  0.0466  0.0519   True\n",
      "----------------------------------------------------------------\n"
     ]
    },
    {
     "data": {
      "image/png": "[encoded data removed]",
      "text/plain": [
       "<Figure size 1000x600 with 1 Axes>"
      ]
     },
     "metadata": {},
     "output_type": "display_data"
    }
   ],
   "source": [
    "from statsmodels.stats.multicomp import pairwise_tukeyhsd\n",
    "# we can use Tukey's HSD test to find out which models are different\n",
    "# the tukeyhsd test performs multiple pairwise comparisons using the studentized range distribution\n",
    "m_comp = pairwise_tukeyhsd(\n",
    "    all_metrics[\"test/BalancedAccuracy\"], all_metrics[\"model\"]\n",
    ")\n",
    "print(m_comp)\n",
    "m_comp.plot_simultaneous()\n",
    "plt.show()"
   ]
  },
  {
   "cell_type": "code",
   "execution_count": null,
   "metadata": {},
   "outputs": [],
   "source": []
  }
 ],
 "metadata": {
  "kernelspec": {
   "display_name": "Python 3",
   "language": "python",
   "name": "python3"
  },
  "language_info": {
   "codemirror_mode": {
    "name": "ipython",
    "version": 3
   },
   "file_extension": ".py",
   "mimetype": "text/x-python",
   "name": "python",
   "nbconvert_exporter": "python",
   "pygments_lexer": "ipython3",
   "version": "3.12.3"
  }
 },
 "nbformat": 4,
 "nbformat_minor": 2
}
